{
 "cells": [
  {
   "cell_type": "code",
   "execution_count": 1,
   "metadata": {},
   "outputs": [],
   "source": [
    "import numpy as np\n",
    "import pandas as pd\n",
    "import matplotlib.pyplot as plt\n",
    "import pymc3 as pm"
   ]
  },
  {
   "cell_type": "markdown",
   "metadata": {},
   "source": [
    "## 3.2 Conditioning\n",
    "Manufacturing Bayes\n",
    "\n",
    "Three types of machines make the production. \n",
    "First type makes 30%, second 50%, and third 20% of the production.\n",
    "Probability of an item being conforming is 0.94 if it comes from type 1 machine, 0.95 from type 2 machine, and 0.97 from type 3 machine.\n",
    "\n",
    "An item from the production is selected at random.\n",
    "\n",
    "(a) What is the probability that it was conforming?\n",
    "\n",
    "(b) If it was found that the item is conforming, what is the probability that it was produced on\n",
    "a type 1  machine?"
   ]
  },
  {
   "cell_type": "markdown",
   "metadata": {},
   "source": [
    "***"
   ]
  },
  {
   "cell_type": "markdown",
   "metadata": {},
   "source": [
    "Hand Calculation:\n",
    "(a) P(A) = 0.94 * 0.3 + 0.95 * 0.5 + 0.97 * 0.2 = 0.957"
   ]
  },
  {
   "cell_type": "code",
   "execution_count": 6,
   "metadata": {},
   "outputs": [],
   "source": [
    "# 1000 items simulate an item is conforming\n",
    "products = [] \n",
    "for i in range(1000): \n",
    "    if i < 300:\n",
    "        products.append(\"Type_1\")\n",
    "    elif 300 <= i < 800:\n",
    "        products.append(\"Type_2\")\n",
    "    else:\n",
    "        products.append(\"Type_3\")\n",
    "def Conform(total, conform_rate):\n",
    "    l = []\n",
    "    for i in range(total):\n",
    "        if i < total * conform_rate:\n",
    "            l.append(True)\n",
    "        else:\n",
    "            l.append(False)\n",
    "    return l\n",
    "\n",
    "Type_1_Conform = Conform(300, 0.94)\n",
    "Type_2_Conform = Conform(500, 0.95)\n",
    "Type_3_Conform = Conform(200, 0.97)"
   ]
  },
  {
   "cell_type": "code",
   "execution_count": 20,
   "metadata": {},
   "outputs": [
    {
     "name": "stdout",
     "output_type": "stream",
     "text": [
      "Item Conforming: 0.9534\n"
     ]
    }
   ],
   "source": [
    "# (a)\n",
    "import random\n",
    "\n",
    "simulation = []\n",
    "for i in range(10000):\n",
    "    rand = random.randint(0, 999)\n",
    "    prod = products[rand]\n",
    "    if prod == \"Type_1\":\n",
    "        if rand < 282:\n",
    "            simulation.append(1)\n",
    "        else:\n",
    "            simulation.append(0)\n",
    "    elif prod == \"Type_2\":\n",
    "        if 300 <= rand < 775:\n",
    "            simulation.append(1)\n",
    "        else:\n",
    "            simulation.append(0)\n",
    "    else:\n",
    "        if 800 <= rand < 994:\n",
    "            simulation.append(1)\n",
    "        else:\n",
    "            simulation.append(0)\n",
    "print('Item Conforming:', sum(simulation) / len(simulation))"
   ]
  },
  {
   "cell_type": "code",
   "execution_count": 23,
   "metadata": {},
   "outputs": [
    {
     "name": "stdout",
     "output_type": "stream",
     "text": [
      "Total Conformed Products 9504\n",
      "Conformed Product From Type 1 0.29292929292929293\n",
      "Conformed Product From Type 2 0.5075757575757576\n",
      "Conformed Product From Type 3 0.1994949494949495\n"
     ]
    }
   ],
   "source": [
    "# (b)\n",
    "def Conform_Type():\n",
    "    type_1 = []\n",
    "    type_2 = []\n",
    "    type_3 = []\n",
    "    for i in range(10000):\n",
    "        rand = random.randint(0, 999)\n",
    "        if rand < 282:\n",
    "            type_1.append(1)\n",
    "        elif 300 <= rand < 775:\n",
    "            type_2.append(1)\n",
    "        elif 800 <= rand < 994:\n",
    "            type_3.append(1)\n",
    "    return type_1, type_2, type_3\n",
    "\n",
    "t1, t2, t3 = Conform_Type() \n",
    "print(\"Total Conformed Products\", len(t1+t2+t3))\n",
    "print(\"Conformed Product From Type 1\", len(t1) / len(t1+t2+t3))\n",
    "print(\"Conformed Product From Type 2\", len(t2) / len(t1+t2+t3))\n",
    "print(\"Conformed Product From Type 3\", len(t3) / len(t1+t2+t3))"
   ]
  },
  {
   "cell_type": "markdown",
   "metadata": {},
   "source": [
    "## 3.3 Bayes Formula\n",
    "\n",
    "Example Two-headed Coin"
   ]
  },
  {
   "cell_type": "code",
   "execution_count": 27,
   "metadata": {},
   "outputs": [],
   "source": [
    "def pro_2H(N, k):\n",
    "    '''\n",
    "    N: number of coins\n",
    "    k: flip times\n",
    "    '''\n",
    "    return 2 ** k / ((N-1) + 2 ** k)"
   ]
  },
  {
   "cell_type": "code",
   "execution_count": 46,
   "metadata": {},
   "outputs": [
    {
     "data": {
      "image/png": "[encoded data removed]",
      "text/plain": [
       "<Figure size 432x288 with 1 Axes>"
      ]
     },
     "metadata": {
      "needs_background": "light"
     },
     "output_type": "display_data"
    }
   ],
   "source": [
    "# 1000000 coins\n",
    "N = 1000000 # prior\n",
    "y_post = []\n",
    "x_flip = []\n",
    "for k in range(0, 50):\n",
    "    x_flip.append(k)\n",
    "    y_post.append(pro_2H(N, k))\n",
    "\n",
    "plt.plot(x_flip, y_post, marker='o', c = 'b')\n",
    "plt.ylabel(\"Posterior Prob.\")\n",
    "plt.xlabel(\"k Flip Times\")\n",
    "plt.show()"
   ]
  },
  {
   "cell_type": "markdown",
   "metadata": {},
   "source": [
    "## 3.4 Basic Bayes Networks"
   ]
  },
  {
   "cell_type": "code",
   "execution_count": 47,
   "metadata": {},
   "outputs": [],
   "source": [
    "import pomegranate"
   ]
  },
  {
   "cell_type": "code",
   "execution_count": null,
   "metadata": {},
   "outputs": [],
   "source": []
  }
 ],
 "metadata": {
  "kernelspec": {
   "display_name": "Python 3",
   "language": "python",
   "name": "python3"
  },
  "language_info": {
   "codemirror_mode": {
    "name": "ipython",
    "version": 3
   },
   "file_extension": ".py",
   "mimetype": "text/x-python",
   "name": "python",
   "nbconvert_exporter": "python",
   "pygments_lexer": "ipython3",
   "version": "3.7.4"
  }
 },
 "nbformat": 4,
 "nbformat_minor": 4
}

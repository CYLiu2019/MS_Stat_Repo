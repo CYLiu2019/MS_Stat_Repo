{
 "cells": [
  {
   "cell_type": "code",
   "execution_count": 2,
   "metadata": {},
   "outputs": [],
   "source": [
    "import numpy as np\n",
    "import pandas as pd\n",
    "import matplotlib.pyplot as plt\n",
    "import pymc3 as pm"
   ]
  },
  {
   "cell_type": "markdown",
   "metadata": {},
   "source": [
    "## 5.1 Bayesian Computation"
   ]
  },
  {
   "cell_type": "markdown",
   "metadata": {},
   "source": [
    "### Simulated Case "
   ]
  },
  {
   "cell_type": "code",
   "execution_count": 5,
   "metadata": {},
   "outputs": [
    {
     "data": {
      "text/plain": [
       "1.2903616678140268"
      ]
     },
     "execution_count": 5,
     "metadata": {},
     "output_type": "execute_result"
    }
   ],
   "source": [
    "# simulated one N(theta, 1)\n",
    "x = 2\n",
    "N = 100000\n",
    "num = 0\n",
    "denom = 0\n",
    "\n",
    "for i in range(N):\n",
    "    theta = x + np.random.randn()\n",
    "    num = num + theta/(1+theta**2)\n",
    "    denom = denom + 1/(1+theta**2)\n",
    "delta21 = num/denom\n",
    "delta21"
   ]
  },
  {
   "cell_type": "code",
   "execution_count": 20,
   "metadata": {},
   "outputs": [
    {
     "data": {
      "text/plain": [
       "1.3380404812458386"
      ]
     },
     "execution_count": 20,
     "metadata": {},
     "output_type": "execute_result"
    }
   ],
   "source": [
    "# simulated two\n",
    "x = 2\n",
    "N = 100000\n",
    "num = 0\n",
    "denom = 0\n",
    "\n",
    "for i in range(N):\n",
    "    a = np.random.randn(1, 2) + 2\n",
    "    theta = a[0][0]/a[0][1]\n",
    "    num = num + theta * np.exp(-0.5 * (x-theta)**2)\n",
    "    denom = denom + np.exp(-0.5 * (x-theta)**2)\n",
    "delta21 = num/denom\n",
    "delta21"
   ]
  },
  {
   "cell_type": "code",
   "execution_count": 21,
   "metadata": {},
   "outputs": [],
   "source": [
    "# Not simulated\n",
    "from scipy import integrate"
   ]
  },
  {
   "cell_type": "code",
   "execution_count": 26,
   "metadata": {},
   "outputs": [
    {
     "data": {
      "text/plain": [
       "1.2821951026935339"
      ]
     },
     "execution_count": 26,
     "metadata": {},
     "output_type": "execute_result"
    }
   ],
   "source": [
    "x = 2\n",
    "num = lambda th: th * np.exp(-0.5*(x-th)**2)/(1+th**2)\n",
    "denom = lambda th: np.exp(-0.5*(x-th)**2)/(1+th**2)\n",
    "delta2 = integrate.quad(num, -np.infty, np.infty)[0]/integrate.quad(denom, -np.infty, np.infty)[0]\n",
    "delta2"
   ]
  },
  {
   "cell_type": "code",
   "execution_count": 27,
   "metadata": {
    "scrolled": true
   },
   "outputs": [
    {
     "name": "stdout",
     "output_type": "stream",
     "text": [
      "2.3036713551596704e-08\n"
     ]
    }
   ],
   "source": [
    "# Errors\n",
    "\n",
    "numerator =integrate.quad(num,-np.infty, np.infty)[0]    #0.9159546679977636\n",
    "denominator=integrate.quad(denom,-np.infty, np.infty)[0] #0.714364503556127\n",
    "errnum=integrate.quad(num,-np.infty, np.infty)[1]        #1.0415234856193602e-09\n",
    "errdenom=integrate.quad(denom,-np.infty, np.infty)[1]    #1.2022419107752649e-08\n",
    "\n",
    "err = delta2 * (errnum/numerator + errdenom/denominator)\n",
    "print(err)   #2.3036713479165735e-08"
   ]
  },
  {
   "cell_type": "markdown",
   "metadata": {},
   "source": [
    "### Laplace Approximation"
   ]
  },
  {
   "cell_type": "code",
   "execution_count": 58,
   "metadata": {},
   "outputs": [],
   "source": [
    "from scipy.stats import gamma\n",
    "from scipy.stats import norm"
   ]
  },
  {
   "cell_type": "code",
   "execution_count": 59,
   "metadata": {},
   "outputs": [],
   "source": [
    "# x|theta ~ Ga(r, theta), theta ~ Ga(alpha, beta)\n",
    "r = 20\n",
    "alpha = 5\n",
    "beta = 1\n",
    "x = 2\n",
    "\n",
    "xx = np.arange(0, 16, 0.01)\n",
    "\n",
    "y1 = gamma.pdf(xx, a=r+alpha, scale=1/(beta+x))\n",
    "y2 = norm.pdf(xx, (r-1+alpha)/(beta+x), np.sqrt(r-1+alpha)/(beta+x))"
   ]
  },
  {
   "cell_type": "code",
   "execution_count": 60,
   "metadata": {},
   "outputs": [
    {
     "data": {
      "image/png": "[encoded data removed]",
      "text/plain": [
       "<Figure size 432x288 with 1 Axes>"
      ]
     },
     "metadata": {
      "needs_background": "light"
     },
     "output_type": "display_data"
    }
   ],
   "source": [
    "plt.plot(xx, y1, c=\"r\", linewidth=2)\n",
    "plt.plot(xx, y2, c=\"b\", linewidth=2)\n",
    "plt.legend([\"Gamma\", \"Normal\"])\n",
    "plt.show()"
   ]
  },
  {
   "cell_type": "code",
   "execution_count": 61,
   "metadata": {},
   "outputs": [
    {
     "data": {
      "text/plain": [
       "(4.799392215763127, 11.200607784236873)"
      ]
     },
     "execution_count": 61,
     "metadata": {},
     "output_type": "execute_result"
    }
   ],
   "source": [
    "# 95% Credible Set\n",
    "norm.ppf(0.025, (r-1+alpha)/(beta+x), np.sqrt(r-1+alpha)/(beta+x)), norm.ppf(0.975, (r-1+alpha)/(beta+x), np.sqrt(r-1+alpha)/(beta+x))"
   ]
  },
  {
   "cell_type": "code",
   "execution_count": 62,
   "metadata": {},
   "outputs": [],
   "source": [
    "upper = gamma.cdf(11.200607784236873, a=r+alpha, scale=1/(beta+x))\n",
    "lower = gamma.cdf(4.799392215763127, a=r+alpha, scale=1/(beta+x))"
   ]
  },
  {
   "cell_type": "code",
   "execution_count": 63,
   "metadata": {},
   "outputs": [
    {
     "data": {
      "text/plain": [
       "0.9404006787256667"
      ]
     },
     "execution_count": 63,
     "metadata": {},
     "output_type": "execute_result"
    }
   ],
   "source": [
    "# approximate posterior range\n",
    "upper - lower"
   ]
  },
  {
   "cell_type": "code",
   "execution_count": 77,
   "metadata": {},
   "outputs": [
    {
     "data": {
      "text/plain": [
       "732275159630.8094"
      ]
     },
     "execution_count": 77,
     "metadata": {},
     "output_type": "execute_result"
    }
   ],
   "source": [
    "# Exact \n",
    "from scipy.special import gamma\n",
    "gamma(r+alpha)/ (beta+x)**(r+alpha)"
   ]
  },
  {
   "cell_type": "code",
   "execution_count": 79,
   "metadata": {},
   "outputs": [
    {
     "data": {
      "text/plain": [
       "729737093278.3551"
      ]
     },
     "execution_count": 79,
     "metadata": {},
     "output_type": "execute_result"
    }
   ],
   "source": [
    "np.sqrt(2 * np.pi) * (r+alpha-1)**(r + alpha -1/2) /((beta + x)**(r +alpha)) * np.exp(-(r+alpha -1))"
   ]
  },
  {
   "cell_type": "markdown",
   "metadata": {},
   "source": [
    "## 5.2 Metropolis Algorithm\n"
   ]
  },
  {
   "cell_type": "markdown",
   "metadata": {},
   "source": [
    "X | $\\theta$ ~ N($\\theta$, 1) and $\\theta$ ~ Cauchy(0, 1) Example"
   ]
  },
  {
   "cell_type": "code",
   "execution_count": 21,
   "metadata": {},
   "outputs": [],
   "source": [
    "from scipy.stats import uniform"
   ]
  },
  {
   "cell_type": "code",
   "execution_count": 28,
   "metadata": {},
   "outputs": [],
   "source": [
    "x = 2 #observed value\n",
    "the = 1 # initial value\n",
    "thes = [] # collection \n",
    "\n",
    "for i in range(100000):\n",
    "    theta_prop = np.random.randn() + x # get candidates\n",
    "    r = (1+the**2)/(1+theta_prop**2)\n",
    "    rho = min(r, 1)\n",
    "    if uniform.rvs() < rho:\n",
    "        the = theta_prop\n",
    "        thes.append(the)\n",
    "    else:\n",
    "        thes.append(the)"
   ]
  },
  {
   "cell_type": "code",
   "execution_count": 29,
   "metadata": {},
   "outputs": [
    {
     "data": {
      "text/plain": [
       "1.281274908022895"
      ]
     },
     "execution_count": 29,
     "metadata": {},
     "output_type": "execute_result"
    }
   ],
   "source": [
    "np.mean(thes[500:])"
   ]
  },
  {
   "cell_type": "code",
   "execution_count": 30,
   "metadata": {},
   "outputs": [
    {
     "data": {
      "text/plain": [
       "0.8716909046964324"
      ]
     },
     "execution_count": 30,
     "metadata": {},
     "output_type": "execute_result"
    }
   ],
   "source": [
    "np.var(thes[500:])"
   ]
  },
  {
   "cell_type": "code",
   "execution_count": 34,
   "metadata": {},
   "outputs": [
    {
     "data": {
      "image/png": "[encoded data removed]",
      "text/plain": [
       "<Figure size 432x288 with 1 Axes>"
      ]
     },
     "metadata": {
      "needs_background": "light"
     },
     "output_type": "display_data"
    }
   ],
   "source": [
    "plt.hist(thes, bins=50)\n",
    "plt.show()"
   ]
  },
  {
   "cell_type": "markdown",
   "metadata": {},
   "source": [
    "Weibull Distribution\n",
    "\n",
    "Modified from C. Robert Bayesian Choice Springer, 2nd edition Page 305\n",
    "\n",
    "Weibull lifetimes\n",
    "$f(t|\\alpha, \\eta) = \\alpha \\eta t^(\\alpha-1) exp(- \\eta t^\\alpha)$\n",
    "\n",
    "Prior on (alpha, eta) is proportional to \n",
    "\n",
    "   $exp(-\\alpha) \\eta^(\\beta-1) exp(-\\xi \\eta)$\n",
    "   \n",
    "As proposal conditional density for alpha' and eta' use \n",
    "the product of two exponential densities with means alpha and eta."
   ]
  },
  {
   "cell_type": "code",
   "execution_count": 39,
   "metadata": {},
   "outputs": [],
   "source": [
    "T = np.array([0.2, 0.1, 0.25])\n",
    "n = 3\n",
    "alpha = 2 #initial\n",
    "eta = 2 #initial\n",
    "beta = 2\n",
    "xi = 2"
   ]
  },
  {
   "cell_type": "code",
   "execution_count": 40,
   "metadata": {},
   "outputs": [],
   "source": [
    "alphas = []\n",
    "etas = []"
   ]
  },
  {
   "cell_type": "code",
   "execution_count": 53,
   "metadata": {},
   "outputs": [],
   "source": [
    "for i in range(50000):\n",
    "    alpha_prop = - alpha * np.log(uniform.rvs())\n",
    "    eta_prop = - eta * np.log(uniform.rvs())\n",
    "    \n",
    "    prod1 = np.prod(T)\n",
    "    prod2 = np.prod(np.exp(eta * (T ** alpha) - eta_prop * (T ** alpha_prop)))\n",
    "    \n",
    "    rr = (eta_prop/eta)**(beta-1) * np.exp(alpha-alpha_prop - xi * (eta_prop - eta))\\\n",
    "         * np.exp(-alpha/alpha_prop - eta/eta_prop + alpha_prop/alpha + eta_prop/eta) \\\n",
    "         * (prod1 ** (alpha_prop-alpha)) * prod2 * (((alpha_prop * eta_prop)/(alpha * eta))**(n-1))\n",
    "    rho = min(rr, 1)\n",
    "    if uniform.rvs() < rho:\n",
    "        alpha = alpha_prop\n",
    "        eta = eta_prop\n",
    "        alphas.append(alpha)\n",
    "        etas.append(eta)\n",
    "    else:\n",
    "        alphas.append(alpha)\n",
    "        etas.append(eta)"
   ]
  },
  {
   "cell_type": "code",
   "execution_count": 55,
   "metadata": {},
   "outputs": [
    {
     "data": {
      "image/png": "[encoded data removed]",
      "text/plain": [
       "<Figure size 432x288 with 1 Axes>"
      ]
     },
     "metadata": {
      "needs_background": "light"
     },
     "output_type": "display_data"
    }
   ],
   "source": [
    "plt.hist(alphas[5000:], bins=50)\n",
    "plt.show()"
   ]
  },
  {
   "cell_type": "code",
   "execution_count": 56,
   "metadata": {},
   "outputs": [
    {
     "data": {
      "image/png": "[encoded data removed]",
      "text/plain": [
       "<Figure size 432x288 with 1 Axes>"
      ]
     },
     "metadata": {
      "needs_background": "light"
     },
     "output_type": "display_data"
    }
   ],
   "source": [
    "plt.hist(etas[5000:], bins=50)\n",
    "plt.show()"
   ]
  },
  {
   "cell_type": "code",
   "execution_count": 57,
   "metadata": {},
   "outputs": [
    {
     "data": {
      "text/plain": [
       "0.6544677748907024"
      ]
     },
     "execution_count": 57,
     "metadata": {},
     "output_type": "execute_result"
    }
   ],
   "source": [
    "np.mean(alphas)"
   ]
  },
  {
   "cell_type": "code",
   "execution_count": 58,
   "metadata": {},
   "outputs": [
    {
     "data": {
      "text/plain": [
       "1.343508387404006"
      ]
     },
     "execution_count": 58,
     "metadata": {},
     "output_type": "execute_result"
    }
   ],
   "source": [
    "np.mean(etas)"
   ]
  },
  {
   "cell_type": "code",
   "execution_count": 59,
   "metadata": {},
   "outputs": [
    {
     "data": {
      "text/plain": [
       "0.2580739890973605"
      ]
     },
     "execution_count": 59,
     "metadata": {},
     "output_type": "execute_result"
    }
   ],
   "source": [
    "np.var(alphas)"
   ]
  },
  {
   "cell_type": "code",
   "execution_count": 60,
   "metadata": {},
   "outputs": [
    {
     "data": {
      "text/plain": [
       "1.2017547578339411"
      ]
     },
     "execution_count": 60,
     "metadata": {},
     "output_type": "execute_result"
    }
   ],
   "source": [
    "np.var(etas)"
   ]
  }
 ],
 "metadata": {
  "kernelspec": {
   "display_name": "Python 3",
   "language": "python",
   "name": "python3"
  },
  "language_info": {
   "codemirror_mode": {
    "name": "ipython",
    "version": 3
   },
   "file_extension": ".py",
   "mimetype": "text/x-python",
   "name": "python",
   "nbconvert_exporter": "python",
   "pygments_lexer": "ipython3",
   "version": "3.7.4"
  }
 },
 "nbformat": 4,
 "nbformat_minor": 4
}
